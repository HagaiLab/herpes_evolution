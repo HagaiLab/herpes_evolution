{
 "cells": [
  {
   "cell_type": "markdown",
   "id": "06befb3f-b267-4cf6-a7f0-90875b1f46a9",
   "metadata": {},
   "source": [
    "### Description:  \n",
    "This is the second step in the motif conservation analysis (results shown in shown in fig7).\n",
    "\n",
    "In this script we look for motifs we have found in human herpes simplex virus (HSV1) within it's proteins' orthologs"
   ]
  },
  {
   "cell_type": "markdown",
   "id": "b801d7a9-2bc3-4f15-b052-667ff8442b9f",
   "metadata": {},
   "source": [
    "### we perform a similar process in both dmi motifs and non-dmi motifs  \n",
    "  \n",
    "**reminder:**  \n",
    "* \"non-dmi\" is a sequence that matches a regular expression (regex) pattern of a certain motif that was dropped for 1 or 2 reasons:\n",
    "1. The motif does not match a domain of the human PPIs of said viral protein\n",
    "2. The average plddt of said motif is higher than 50 "
   ]
  },
  {
   "cell_type": "markdown",
   "id": "a488b9c6-30cb-4d19-b446-4ad63dfbf055",
   "metadata": {},
   "source": [
    "We get a table of occurrences - which tells us if the said motif was found in a certain protein's ortholog (through regular expression matching)"
   ]
  },
  {
   "cell_type": "code",
   "execution_count": 59,
   "id": "585feea7-1b29-40a1-a968-73a2db8424e4",
   "metadata": {},
   "outputs": [],
   "source": [
    "import os\n",
    "import pandas as pd\n",
    "import re"
   ]
  },
  {
   "cell_type": "markdown",
   "id": "8e3c78d2-2216-4a20-9c06-f289323f43da",
   "metadata": {},
   "source": [
    "## HSV"
   ]
  },
  {
   "cell_type": "code",
   "execution_count": 143,
   "id": "3ec63217-e4fd-4232-a0a4-0e185e8949a0",
   "metadata": {},
   "outputs": [],
   "source": [
    "# Function that removes \"\\n\" from file from everyline besides the one after the sequence name in order to clean fasta files\n",
    "def rreplace(s, old, new, occurrence):\n",
    "    li = s.rsplit(old, occurrence)\n",
    "    return new.join(li)"
   ]
  },
  {
   "cell_type": "code",
   "execution_count": 144,
   "id": "b758c299-9d62-4b68-8575-d54e38b9fd42",
   "metadata": {},
   "outputs": [],
   "source": [
    "# Input files: output of script \"01 - motif table dmi and not\"\n",
    "hsv_dmi_path = r\"hsv_dmi_motifs.csv\"\n",
    "hsv_non_dmi_path = r\"hsv_non_dmi_motifs.csv\""
   ]
  },
  {
   "cell_type": "code",
   "execution_count": 145,
   "id": "4d221085-789b-4baf-ab54-e6cc65a25deb",
   "metadata": {},
   "outputs": [],
   "source": [
    "# Output path for dmi motifs\n",
    "hsv_dmi_motifs_occurence_output=r\"hsv_dmi_motifs_OCCURENCES.csv\""
   ]
  },
  {
   "cell_type": "code",
   "execution_count": 146,
   "id": "6deb1429-48f5-46a4-9357-688f2cda5de6",
   "metadata": {},
   "outputs": [],
   "source": [
    "# Output path for non dmi motifs\n",
    "hsv_non_dmi_motifs_occurence_output=r\"hsv_non_dmi_motifs_OCCURENCES.csv\""
   ]
  },
  {
   "cell_type": "markdown",
   "id": "62b82c1f-8f97-4ea9-a3be-5d93330fd2c1",
   "metadata": {},
   "source": [
    "### converting gene name to uniprot"
   ]
  },
  {
   "cell_type": "code",
   "execution_count": 148,
   "id": "cd296651-22cd-4a50-9851-d9ef880048ef",
   "metadata": {},
   "outputs": [],
   "source": [
    "hsv_uniprot_path= # path to hsv1_protein_level_table.csv \n",
    "hsv_uniprot_df = pd.read_csv(hsv_uniprot_path)"
   ]
  },
  {
   "cell_type": "code",
   "execution_count": 149,
   "id": "34abb911-b323-46ab-ba4b-e46b14db7659",
   "metadata": {},
   "outputs": [],
   "source": [
    "# Making a dictionary of uniprot ID : prot name\n",
    "# Also making an inverted dictionary of  protein name : uniprot ID\n",
    "\n",
    "hsv_uniprot_dict = dict(zip(hsv_uniprot_df[\"Uniprot ID\"] , hsv_uniprot_df[\"Gene name\"]))      \n",
    "inverted_hsv_uniprot_dict = {value: key for key, value in hsv_uniprot_dict.items()}"
   ]
  },
  {
   "cell_type": "markdown",
   "id": "00d856d3-ada5-4643-8f0f-8a162a535e79",
   "metadata": {},
   "source": [
    "### create orthologs list"
   ]
  },
  {
   "cell_type": "code",
   "execution_count": 151,
   "id": "bc12475a-d3fd-4232-b33f-238db9368107",
   "metadata": {},
   "outputs": [],
   "source": [
    "hsv_sequences_path_in = r\"MSA_DATA\\MOTIF_SEARCH\\HSV\\MS\"\n",
    "hsv_proteins_list= os.listdir(hsv_sequences_path_in)\n",
    "\n",
    "hsv_proteins_names_list = [file.split('.')[0] for file in hsv_proteins_list]\n",
    "\n",
    "# Create list of uniprot IDs of the proteins with orthologs (instead of gene names)\n",
    "unirpot_hsv_proteins_with_ortho = [inverted_hsv_uniprot_dict.get(i) for i in hsv_proteins_names_list ]"
   ]
  },
  {
   "cell_type": "markdown",
   "id": "8acfd8fa-5bae-4118-8561-11b08a1254a6",
   "metadata": {},
   "source": [
    "### list HSV1 dmi and non dmi motifs"
   ]
  },
  {
   "cell_type": "code",
   "execution_count": 154,
   "id": "471c47f9-aa67-42ca-b3ae-f6d793b2f0ad",
   "metadata": {},
   "outputs": [],
   "source": [
    "hsv_dmi_df = pd.read_csv(hsv_dmi_path)\n",
    "hsv_non_dmi_df = pd.read_csv(hsv_non_dmi_path)"
   ]
  },
  {
   "cell_type": "code",
   "execution_count": 156,
   "id": "f9393b7a-1e29-4b94-9060-13d8e058eb0d",
   "metadata": {},
   "outputs": [],
   "source": [
    "hsv_dmi_proteins = list(hsv_dmi_df[\"v_prot\"].unique())\n",
    "hsv_non_dmi_proteins = list(hsv_non_dmi_df[\"v_prot\"].unique())"
   ]
  },
  {
   "cell_type": "markdown",
   "id": "c9f26106-ee7b-4174-b8cc-3f42b9979538",
   "metadata": {},
   "source": [
    "### looking for HSV1 dmi motifs within orthologs"
   ]
  },
  {
   "cell_type": "code",
   "execution_count": 157,
   "id": "805e3119-2d1e-4fdb-9c24-d4e17a77cd12",
   "metadata": {},
   "outputs": [],
   "source": [
    "# Rows to append to in the following loop\n",
    "rows_hsv_dmi_motifs_occurence_output = []"
   ]
  },
  {
   "cell_type": "code",
   "execution_count": 20,
   "id": "5143d308-24b8-42ed-87c3-fdd106140130",
   "metadata": {},
   "outputs": [],
   "source": [
    "# Go over the list of dmi proteins\n",
    "for protein in hsv_dmi_proteins:\n",
    "    \n",
    "    # Go on only if the protein has orthologs\n",
    "    if protein in unirpot_hsv_proteins_with_ortho:\n",
    "        print(protein)\n",
    "        \n",
    "        # Open the orthologs sequence file (with all the protein's orthologs sequences)\n",
    "        gene_name = hsv_uniprot_dict.get(protein)\n",
    "        with open(os.path.join(hsv_sequences_path_in , gene_name + \".fa\" ), \"r\") as protein_sequences:\n",
    "\n",
    "            # Read it\n",
    "            file_as_string = protein_sequences.read()\n",
    "\n",
    "            # Split\n",
    "            seqs_list = file_as_string.split(\"*\\n\")\n",
    "            seqs_list.pop()\n",
    "\n",
    "            # Convert into dictionary. of variant and sequence.\n",
    "            protein_variant_and_seqs_dict = {i[0].replace(\",\", \"\").replace(\">\", \"\"): i[1] for i in map(lambda i: rreplace(i, '\\n', '', i.count('\\n') - 1).split(\"\\n\"), seqs_list)}\n",
    "\n",
    "            # Get sub dataframe of all the disordered motifs of that protein from the dmi table\n",
    "            protein_dmi_df = hsv_dmi_df[hsv_dmi_df['v_prot'] == protein]\n",
    "\n",
    "            # Make a list where each item is a sub list of [motif name, motif regex]\n",
    "            protein_dmi_motifs = [(motif_name, motif_regex) for motif_name, motif_regex in zip(protein_dmi_df[\"motif_name\"], protein_dmi_df[\"motif_regex\"])]\n",
    "\n",
    "            # Go over every motif of this protein and its regex and search for it in every variant's sequence (ortholog).\n",
    "            for motif_name, regex in  protein_dmi_motifs:\n",
    "                for variant, seq in protein_variant_and_seqs_dict.items():\n",
    "                    matches = list(re.finditer(regex, seq))\n",
    "                    if not matches:\n",
    "\n",
    "                        hsv_dmi_motifs_occurence_row = {'viral_uniprot' : protein , 'viral_prot_name' : gene_name , \n",
    "                                                        'motif_name' : motif_name , 'variant': variant, 'ocurrence': 0 }\n",
    "\n",
    "                        rows_hsv_dmi_motifs_occurence_output.append(hsv_dmi_motifs_occurence_row)\n",
    "\n",
    "                    else:\n",
    "                        hsv_dmi_motifs_occurence_row = {'viral_uniprot' : protein , 'viral_prot_name' : gene_name , \n",
    "                                                            'motif_name' : motif_name , 'variant': variant, 'ocurrence': 1 }\n",
    "\n",
    "                        rows_hsv_dmi_motifs_occurence_output.append(hsv_dmi_motifs_occurence_row)\n",
    "                            \n",
    "                    \n"
   ]
  },
  {
   "cell_type": "code",
   "execution_count": 160,
   "id": "51d70f56-6e22-4f66-aeec-23f31a96a171",
   "metadata": {},
   "outputs": [],
   "source": [
    "# Convert rows to tables\n",
    "hsv_dmi_motifs_occurence_df = pd.DataFrame(rows_hsv_dmi_motifs_occurence_output)"
   ]
  },
  {
   "cell_type": "code",
   "execution_count": 161,
   "id": "16eaeac7-d207-4a66-b5e3-3888dbada201",
   "metadata": {},
   "outputs": [],
   "source": [
    "# Save tables\n",
    "hsv_dmi_motifs_occurence_df.to_csv(hsv_dmi_motifs_occurence_output , index= False)"
   ]
  },
  {
   "cell_type": "markdown",
   "id": "ed1ad82b-5238-4258-ae5b-fd98b43c90cc",
   "metadata": {},
   "source": [
    "### looking for HSV1 non-dmi motifs within orthologs"
   ]
  },
  {
   "cell_type": "code",
   "execution_count": 163,
   "id": "aa0d80b5-d1b3-4839-9557-dbb373aebcf2",
   "metadata": {},
   "outputs": [],
   "source": [
    "# Rows to append to in the following loop\n",
    "rows_hsv_non_dmi_motifs_occurence_output = []"
   ]
  },
  {
   "cell_type": "code",
   "execution_count": 18,
   "id": "f0519382-0d6e-4285-a08e-7bbaabef5e2e",
   "metadata": {},
   "outputs": [],
   "source": [
    "for protein in hsv_non_dmi_proteins:\n",
    "    \n",
    "    # Go on only if the protein has orthologs\n",
    "    if protein in unirpot_hsv_proteins_with_ortho:\n",
    "        print(protein)\n",
    "        \n",
    "        # Open the orthologs sequence file (with all the protein's orthologs sequences)\n",
    "        gene_name = hsv_uniprot_dict.get(protein)\n",
    "        with open(os.path.join(hsv_sequences_path_in , gene_name + \".fa\" ), \"r\") as protein_sequences:\n",
    "\n",
    "            # Read it\n",
    "            file_as_string = protein_sequences.read()\n",
    "\n",
    "            # Split\n",
    "            seqs_list = file_as_string.split(\"*\\n\")\n",
    "            seqs_list.pop()\n",
    "\n",
    "            # Convert into dictionary of variant and sequence.\n",
    "            protein_variant_and_seqs_dict = {i[0].replace(\",\", \"\").replace(\">\", \"\"): i[1] for i in map(lambda i: rreplace(i, '\\n', '', i.count('\\n') - 1).split(\"\\n\"), seqs_list)}\n",
    "\n",
    "            # Get sub df of all the disordered motifs of that protein\n",
    "            protein_non_dmi_df = hsv_non_dmi_df[hsv_non_dmi_df['v_prot'] == protein]\n",
    "\n",
    "            # Make a list where each item is a sub list [motif name, motif regex]\n",
    "            protein_non_dmi_motifs = [(motif_name, motif_regex) for motif_name, motif_regex in zip(protein_non_dmi_df[\"motif_name\"], protein_non_dmi_df[\"motif_regex\"])]\n",
    "\n",
    "            # Go over every motif of this protein and its regex and search for it in every variant's sequence (ortholog).\n",
    "            for motif_name, regex in  protein_non_dmi_motifs:\n",
    "                for variant, seq in protein_variant_and_seqs_dict.items():\n",
    "                    matches = list(re.finditer(regex, seq))\n",
    "                    if not matches:\n",
    "\n",
    "                        hsv_non_dmi_motifs_occurence_row = {'viral_uniprot' : protein , 'viral_prot_name' : gene_name , \n",
    "                                                        'motif_name' : motif_name , 'variant': variant, 'ocurrence': 0 }\n",
    "\n",
    "                        rows_hsv_non_dmi_motifs_occurence_output.append(hsv_non_dmi_motifs_occurence_row)\n",
    "\n",
    "                    else:\n",
    "                        hsv_non_dmi_motifs_occurence_row = {'viral_uniprot' : protein , 'viral_prot_name' : gene_name , \n",
    "                                                            'motif_name' : motif_name , 'variant': variant, 'ocurrence': 1 }\n",
    "\n",
    "                        rows_hsv_non_dmi_motifs_occurence_output.append(hsv_non_dmi_motifs_occurence_row)\n",
    "                            \n",
    "                    \n"
   ]
  },
  {
   "cell_type": "code",
   "execution_count": 16,
   "id": "925bc120-f854-4900-92d7-9bde89673562",
   "metadata": {},
   "outputs": [],
   "source": [
    "# Convert rows to tables\n",
    "hsv_non_dmi_motifs_occurence_df = pd.DataFrame(rows_hsv_non_dmi_motifs_occurence_output)"
   ]
  },
  {
   "cell_type": "code",
   "execution_count": 166,
   "id": "725a22ab-d4cb-4cde-bcbd-fcdf7f16e359",
   "metadata": {},
   "outputs": [],
   "source": [
    "# Save tables\n",
    "hsv_non_dmi_motifs_occurence_df.to_csv(hsv_non_dmi_motifs_occurence_output , index= False)\n"
   ]
  }
 ],
 "metadata": {
  "kernelspec": {
   "display_name": "Python 3 (ipykernel)",
   "language": "python",
   "name": "python3"
  },
  "language_info": {
   "codemirror_mode": {
    "name": "ipython",
    "version": 3
   },
   "file_extension": ".py",
   "mimetype": "text/x-python",
   "name": "python",
   "nbconvert_exporter": "python",
   "pygments_lexer": "ipython3",
   "version": "3.12.3"
  }
 },
 "nbformat": 4,
 "nbformat_minor": 5
}
