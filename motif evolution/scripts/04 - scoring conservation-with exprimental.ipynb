{
 "cells": [
  {
   "cell_type": "markdown",
   "id": "08fa1151-4da6-4f4b-800e-0468a6c8f689",
   "metadata": {},
   "source": [
    "### Description:  \n",
    "This is the fourth and last step in the motif conservation analysis (results shown in shown in fig7).  \n",
    "\n",
    "In this step, we score each motif based on the variant up to which it was found.   \n",
    "The farther away within the virus's phylogeny that the motif is still found -> the more conserved it is -> the higher its score\n",
    "\n",
    "In the end we look at motifs that were conserved all the way to new world monkeys as opposed to motifs that were less conserved"
   ]
  },
  {
   "cell_type": "markdown",
   "id": "4832714b-fb67-4d13-8699-def8528be46c",
   "metadata": {},
   "source": [
    "### we perform similar process in both dmi motifs and non-dmi motifs  \n",
    "\n",
    "**reminder:**  \n",
    "* \"non-dmi\" is a sequence that matches a regular expression (regex) pattern of a certain motif that was dropped for 1 or 2 reasons:\n",
    "1. The motif does not match a domain of the human PPIs of said viral protein\n",
    "2. The average plddt of said motif is higher than 50 "
   ]
  },
  {
   "cell_type": "code",
   "execution_count": 36,
   "id": "763ec5a8-e7b9-4e7e-b18b-9a78b11a1be0",
   "metadata": {},
   "outputs": [],
   "source": [
    "import pandas as pd\n",
    "import matplotlib.pyplot as plt\n",
    "import seaborn as sns\n",
    "import os\n",
    "from scipy.stats import fisher_exact"
   ]
  },
  {
   "cell_type": "markdown",
   "id": "927c1f09-78a6-4e4d-9f23-a98487360252",
   "metadata": {},
   "source": [
    "## HSV"
   ]
  },
  {
   "cell_type": "markdown",
   "id": "bd5cc36f-f23a-4dcf-98ad-9e029cefc0ec",
   "metadata": {},
   "source": [
    "Input paths are the output tables from script \"03 - create column table\" in which we manually moved 4 experimentally-validated motifs from the \"non-DMI table\" to the \"DMI table\". These were originally found in our data **in the non-DMI table** of HSV1 because of missing data regarding their interactions in the assembled PPI dataset. They were thus removed from non-DMI and added to the DMI table instead.  \n",
    "  \n",
    "**There 2 options of paths to use here:**  \n",
    "1a. Take the occurrences tables from \"03 - create column table\", open \"experimental motifs.csv\" (with the files given), and in the \"hsv1\" sheet use the \"viral_uniprot\" and \"motif_name\" values to search for the appropriate row in the \"non_dmi_motifs_OCCURENCES_by_variant\" table from script 03.  \n",
    "Then, add that row to the 'dmi_motifs_OCCURENCES_by_variant' table from script 03.  \n",
    "The tables are then renamed:    \n",
    "dmi_motifs_OCCURENCES_by_variant.csv -> dmi_motifs_OCCURENCES_by_variant - with experimental.csv    \n",
    "non_dmi_motifs_OCCURENCES_by_variant.csv -> non_dmi_motifs_OCCURENCES_by_variant - without experimental.csv  \n",
    "Or  \n",
    "1b. Use the occurrences paths given:  \n",
    "\"dmi_motifs_OCCURENCES_by_variant -with experimental.csv\" and \"non_dmi_motifs_OCCURENCES_by_variant - without experimental.csv\".  \n",
    "These are our results from script \"03 - create column table\" modified with the changes made with the 4 experimentally-validated motifs.   "
   ]
  },
  {
   "cell_type": "code",
   "execution_count": 38,
   "id": "81cc3e8f-3cad-4bf3-8be3-b832da6f0565",
   "metadata": {},
   "outputs": [],
   "source": [
    "hsv_dmi_motifs_path = r\"dmi_motifs_OCCURENCES_by_variant -with experimental.csv\"\n",
    "hsv_non_dmi_motifs_path = r\"non_dmi_motifs_OCCURENCES_by_variant - without experimental.csv\""
   ]
  },
  {
   "cell_type": "code",
   "execution_count": 40,
   "id": "b4acac2d-f9c1-455b-aa44-aa1c69698ec9",
   "metadata": {},
   "outputs": [],
   "source": [
    "hsv_dmi_occur_df = pd.read_csv(hsv_dmi_motifs_path)\n",
    "hsv_non_dmi_occur_df = pd.read_csv(hsv_non_dmi_motifs_path)"
   ]
  },
  {
   "cell_type": "markdown",
   "id": "27bcc451-79cd-45e5-ad54-a7d50c02459a",
   "metadata": {},
   "source": [
    "### dmi"
   ]
  },
  {
   "cell_type": "code",
   "execution_count": 42,
   "id": "83c6cbf4-d72b-4be3-9675-6e8707ec3422",
   "metadata": {},
   "outputs": [],
   "source": [
    "# remove motif instances where certain class of variant (ex: old world monkeys) are missing the orthologs for said protein\n",
    "# no protein -> no data -> remove\n",
    "\n",
    "columns_to_check1 = ['Macacque HSV1', 'Baboon HSV2', 'Grivet HSV2']\n",
    "columns_to_check2 = ['squirrel monkey HSV1']\n",
    "\n",
    "threshold1 = 3\n",
    "threshold2 = 1\n",
    "\n",
    "hsv_dmi_occur_df_clean = hsv_dmi_occur_df.dropna(subset=columns_to_check1, thresh=len(columns_to_check1) - threshold1 + 1)\n",
    "hsv_dmi_occur_df_clean2 = hsv_dmi_occur_df_clean.dropna(subset=columns_to_check2, thresh=len(columns_to_check2) - threshold1 + 1)"
   ]
  },
  {
   "cell_type": "code",
   "execution_count": 44,
   "id": "6067a665-ed2d-43fa-b7fa-ae92be33409d",
   "metadata": {},
   "outputs": [],
   "source": [
    "# NA can still occur in the data. For example, if out of 3 old world monkeys, we have 1 ortholog, we can use this instance.\n",
    "# Thus, we convert the NA of \"legitimate\" instances to 0.\n",
    "hsv_dmi_occur_df_clean2 = hsv_dmi_occur_df_clean2.fillna(0)"
   ]
  },
  {
   "cell_type": "code",
   "execution_count": 46,
   "id": "14154181-295b-4643-877b-8ad3a366463d",
   "metadata": {},
   "outputs": [],
   "source": [
    "# Create a scoring dictionary.\n",
    "# Go over each motif, check in which variants in appears (while maintaing a logical conservation order) ans scoring it based on that\n",
    "# Score can be:\n",
    "# 0 - only in human (HSV)\n",
    "# 1 - in human and chimp-infecting viruses \n",
    "# 2 - in human, chimp and old world monkeys - infecting viruses \n",
    "# 3 - in human, chimp old world monkeys and new world monkeys - infecting viruses\n",
    "\n",
    "hsv_scoring_dmi_dict={0:0, 1:0,2:0,3:0}\n",
    "\n",
    "for i in hsv_dmi_occur_df_clean2.index:\n",
    "    a = int(hsv_dmi_occur_df_clean2.at[i, \"Human HSV1\"]) \n",
    "    b = int(hsv_dmi_occur_df_clean2.at[i, \"Human HSV2\"]) \n",
    "    c = int(hsv_dmi_occur_df_clean2.at[i, \"Chimp HSV1\"]) \n",
    "    d = int(hsv_dmi_occur_df_clean2.at[i, \"Macacque HSV1\"]) \n",
    "    e = int(hsv_dmi_occur_df_clean2.at[i, \"Baboon HSV2\"]) \n",
    "    f = int(hsv_dmi_occur_df_clean2.at[i, \"Grivet HSV2\"])\n",
    "    g = int(hsv_dmi_occur_df_clean2.at[i, \"squirrel monkey HSV1\"]) \n",
    "\n",
    "    \n",
    "    if  a + b == 2 and c == 1 and d+e+f >=2 and g == 1 :\n",
    "        hsv_scoring_dmi_dict[3] = hsv_scoring_dmi_dict[3] +1\n",
    "\n",
    "    elif  a + b == 2 and c == 1 and d+e+f >=2 and g == 0 :\n",
    "         hsv_scoring_dmi_dict[2] = hsv_scoring_dmi_dict[2] +1\n",
    "          \n",
    "    elif  a + b <= 2 and c == 1 and d+e+f <2 and g == 0 :\n",
    "        hsv_scoring_dmi_dict[1] = hsv_scoring_dmi_dict[1] +1\n",
    "        \n",
    "    elif  a + b <= 2 and c == 0 and d+e+f <2 and g == 0 :\n",
    "        hsv_scoring_dmi_dict[0] = hsv_scoring_dmi_dict[0] +1\n",
    "\n",
    "        \n",
    "    \n",
    " "
   ]
  },
  {
   "cell_type": "code",
   "execution_count": 48,
   "id": "33535d8c-2d67-4e83-a28f-830aa60a090d",
   "metadata": {},
   "outputs": [],
   "source": [
    "# Convert the scoring dictionary from counts into percentages\n",
    "\n",
    "hsv_scoring_dmi_dict_percent={}\n",
    "hsv_dict_dmi_sum=sum(hsv_scoring_dmi_dict.values())\n",
    "\n",
    "for key in hsv_scoring_dmi_dict.keys():\n",
    "    hsv_scoring_dmi_dict_percent[key] = (hsv_scoring_dmi_dict[key]/hsv_dict_dmi_sum) * 100"
   ]
  },
  {
   "cell_type": "code",
   "execution_count": 50,
   "id": "a1e0985c-8072-45f6-aeed-9e961b685ddf",
   "metadata": {},
   "outputs": [],
   "source": [
    "# Define the new key names (based on the variants class) and their order\n",
    "hsv_new_keys = ['Human HSV1 only', 'Hominin', 'Great and Old World','Great, Old World, New World']\n",
    "\n",
    "# Create a new dictionary with the new key names\n",
    "new_hsv_scoring_dmi_dict_percent_dict = {hsv_new_keys[i]: hsv_scoring_dmi_dict_percent[key] for i, key in enumerate(hsv_scoring_dmi_dict_percent)}"
   ]
  },
  {
   "cell_type": "code",
   "execution_count": 52,
   "id": "b3bac6be-368e-4ca5-8359-9b7c5ed8db99",
   "metadata": {},
   "outputs": [],
   "source": [
    "# Convert dictionary to DataFrame\n",
    "plot_hsv_dmi_df = pd.DataFrame(list(new_hsv_scoring_dmi_dict_percent_dict.items()), columns=['Motif', 'Conservation'])"
   ]
  },
  {
   "cell_type": "markdown",
   "id": "71b15b80-dac1-4d09-a806-da2e1e6a924e",
   "metadata": {},
   "source": [
    "### non dmi"
   ]
  },
  {
   "cell_type": "code",
   "execution_count": 55,
   "id": "65d3da99-97d1-42e3-903f-34884e8317cb",
   "metadata": {},
   "outputs": [],
   "source": [
    "# Remove motif instances where certain class of vaqriant (ex: old world monkeys) are missing the orthologs for said protein\n",
    "# no protein -> no data -> remove\n",
    "\n",
    "columns_to_check1 = ['Macacque HSV1', 'Baboon HSV2', 'Grivet HSV2']\n",
    "columns_to_check2 = ['squirrel monkey HSV1']\n",
    "\n",
    "threshold1 = 3\n",
    "threshold2 = 1\n",
    "\n",
    "hsv_non_dmi_occur_df_clean = hsv_non_dmi_occur_df.dropna(subset=columns_to_check1, thresh=len(columns_to_check1) - threshold1 + 1)\n",
    "hsv_non_dmi_occur_df_clean2 = hsv_non_dmi_occur_df_clean.dropna(subset=columns_to_check2, thresh=len(columns_to_check2) - threshold1 + 1)"
   ]
  },
  {
   "cell_type": "code",
   "execution_count": 57,
   "id": "05d83bed-b9fb-4d60-8428-fdc3a20eb84d",
   "metadata": {},
   "outputs": [],
   "source": [
    "# NA can be still in the data. for example if out of 3 old world monkeys, we have 1 ortholog. we can use this instance.\n",
    "#so we convert the NA of legitimate instances to 0\n",
    "hsv_non_dmi_occur_df_clean2 = hsv_non_dmi_occur_df_clean2.fillna(0)"
   ]
  },
  {
   "cell_type": "code",
   "execution_count": 59,
   "id": "6fc81eca-6f97-4286-afac-50055b5821eb",
   "metadata": {},
   "outputs": [],
   "source": [
    "# Create a scoring dictionary.\n",
    "# Go over each motif, check in which variants in appears (while maintaing a logical conservation order) ans scoring it based on that\n",
    "# Score can be:\n",
    "# 0 - only in human (HSV)\n",
    "# 1 - in human and chimp-infecting viruses \n",
    "# 2 - in human, chimp and old world monkeys - infecting viruses \n",
    "# 3 - in human, chimp old world monkeys and new world monkeys - infecting viruses\n",
    "\n",
    "hsv_scoring_non_dmi_dict={0:0, 1:0,2:0,3:0}\n",
    "\n",
    "for i in hsv_non_dmi_occur_df_clean2.index:\n",
    "    a = int(hsv_non_dmi_occur_df_clean2.at[i, \"Human HSV1\"])\n",
    "    b = int(hsv_non_dmi_occur_df_clean2.at[i, \"Human HSV2\"])      \n",
    "    c = int(hsv_non_dmi_occur_df_clean2.at[i, \"Chimp HSV1\"]) \n",
    "    d = int(hsv_non_dmi_occur_df_clean2.at[i, \"Macacque HSV1\"]) \n",
    "    e = int(hsv_non_dmi_occur_df_clean2.at[i, \"Baboon HSV2\"]) \n",
    "    f = int(hsv_non_dmi_occur_df_clean2.at[i, \"Grivet HSV2\"])\n",
    "    g = int(hsv_non_dmi_occur_df_clean2.at[i, \"squirrel monkey HSV1\"]) \n",
    "    \n",
    "    if a + b == 2 and c == 1 and d+e+f >=2 and g == 1 :\n",
    "        hsv_scoring_non_dmi_dict[3] = hsv_scoring_non_dmi_dict[3] +1\n",
    "        \n",
    "    elif a + b == 2 and c == 1 and d+e+f >=2 and g == 0 :\n",
    "         hsv_scoring_non_dmi_dict[2] = hsv_scoring_non_dmi_dict[2] +1\n",
    "        \n",
    "    elif a + b <= 2 and c == 1 and d+e+f <2 and g == 0 :\n",
    "        hsv_scoring_non_dmi_dict[1] = hsv_scoring_non_dmi_dict[1] +1\n",
    "        \n",
    "    elif a + b <= 2 and c == 0 and d+e+f <2 and g == 0 :\n",
    "        hsv_scoring_non_dmi_dict[0] = hsv_scoring_non_dmi_dict[0] +1\n",
    "        \n",
    "    \n",
    " "
   ]
  },
  {
   "cell_type": "code",
   "execution_count": 61,
   "id": "98fb5c0f-0fb4-4e95-b223-08581bade79b",
   "metadata": {},
   "outputs": [],
   "source": [
    "# Convert the scoring dictionary from counts into percentages\n",
    "\n",
    "hsv_scoring_non_dmi_dict_percent={}\n",
    "hsv_dict_non_dmi_sum=sum(hsv_scoring_non_dmi_dict.values())\n",
    "\n",
    "for key in hsv_scoring_dmi_dict.keys():\n",
    "    hsv_scoring_non_dmi_dict_percent[key] = (hsv_scoring_non_dmi_dict[key]/hsv_dict_non_dmi_sum) * 100"
   ]
  },
  {
   "cell_type": "code",
   "execution_count": 63,
   "id": "d35359d7-688a-419f-820e-e50d9c4ea47e",
   "metadata": {},
   "outputs": [],
   "source": [
    "# Define the new key names (based on the variants class) and their order\n",
    "hsv_new_keys = ['Human HSV1 only', 'Hominin', 'Great and Old World','Great, Old World, New World']\n",
    "\n",
    "# Create a new dictionary with the new key names\n",
    "new_hsv_scoring_non_dmi_dict_percent_dict = {hsv_new_keys[i]: hsv_scoring_non_dmi_dict_percent[key] for i, key in enumerate(hsv_scoring_non_dmi_dict_percent)}"
   ]
  },
  {
   "cell_type": "code",
   "execution_count": 65,
   "id": "37f65b77-66b2-45d8-9b39-2d7d183a07f3",
   "metadata": {},
   "outputs": [],
   "source": [
    "# Convert dictionary to DataFrame\n",
    "plot_hsv_non_dmi_df = pd.DataFrame(list(new_hsv_scoring_non_dmi_dict_percent_dict.items()), columns=['Motif', 'Conservation'])"
   ]
  },
  {
   "cell_type": "markdown",
   "id": "708bd66d-b3fc-4ac0-af42-0e968a6e327f",
   "metadata": {},
   "source": [
    "### stats - SV motif conservation Fisher's exact"
   ]
  },
  {
   "cell_type": "code",
   "execution_count": 68,
   "id": "2bae0b5f-553a-4c69-8a9a-543f0b016e48",
   "metadata": {},
   "outputs": [
    {
     "data": {
      "text/html": [
       "<div>\n",
       "<style scoped>\n",
       "    .dataframe tbody tr th:only-of-type {\n",
       "        vertical-align: middle;\n",
       "    }\n",
       "\n",
       "    .dataframe tbody tr th {\n",
       "        vertical-align: top;\n",
       "    }\n",
       "\n",
       "    .dataframe thead th {\n",
       "        text-align: right;\n",
       "    }\n",
       "</style>\n",
       "<table border=\"1\" class=\"dataframe\">\n",
       "  <thead>\n",
       "    <tr style=\"text-align: right;\">\n",
       "      <th></th>\n",
       "      <th>dmi</th>\n",
       "      <th>non-dmi</th>\n",
       "    </tr>\n",
       "  </thead>\n",
       "  <tbody>\n",
       "    <tr>\n",
       "      <th>conserved in all</th>\n",
       "      <td>39</td>\n",
       "      <td>705</td>\n",
       "    </tr>\n",
       "    <tr>\n",
       "      <th>not conserved</th>\n",
       "      <td>6</td>\n",
       "      <td>235</td>\n",
       "    </tr>\n",
       "  </tbody>\n",
       "</table>\n",
       "</div>"
      ],
      "text/plain": [
       "                  dmi  non-dmi\n",
       "conserved in all   39      705\n",
       "not conserved       6      235"
      ]
     },
     "execution_count": 68,
     "metadata": {},
     "output_type": "execute_result"
    }
   ],
   "source": [
    "# Insert the counts according to the count dictionaries\n",
    "# Sum of instances where the motif WAS NOT conserved across all classes \n",
    "# The number of instances where the motif WAS conserved across all classes\n",
    "\n",
    "fisher_df = pd.DataFrame({'dmi':[39, 6], 'non-dmi':[705, 235]}, index=pd.Index(['conserved in all', 'not conserved']))\n",
    "fisher_df"
   ]
  },
  {
   "cell_type": "code",
   "execution_count": 70,
   "id": "2f382702-42f5-4d0a-8763-3db15b358b54",
   "metadata": {},
   "outputs": [
    {
     "name": "stdout",
     "output_type": "stream",
     "text": [
      "0.0780825967591011\n"
     ]
    }
   ],
   "source": [
    "# Calculate p-value based on Fisher's exact \n",
    "\n",
    "oddsr, p = fisher_exact(table=fisher_df.to_numpy())\n",
    "print(p)"
   ]
  },
  {
   "cell_type": "markdown",
   "id": "61b94c54-ac25-4a6f-8853-1dd446ce9986",
   "metadata": {},
   "source": [
    "### plot"
   ]
  },
  {
   "cell_type": "code",
   "execution_count": 73,
   "id": "312d0d05-667c-4419-a287-9ddf663f50b8",
   "metadata": {},
   "outputs": [],
   "source": [
    "# Merge both dataframe, of dmi and non dmi\n",
    "hsv_merged_df = pd.merge(plot_hsv_dmi_df, plot_hsv_non_dmi_df, on='Motif')"
   ]
  },
  {
   "cell_type": "code",
   "execution_count": 75,
   "id": "4c9f0dd8-29f5-45af-bba5-f15d8793a3a4",
   "metadata": {},
   "outputs": [],
   "source": [
    "# Rename\n",
    "hsv_merged_df.rename(columns={\"Conservation_x\":'Functional motifs',\"Conservation_y\":'Motif sequence matches'} , inplace=True)"
   ]
  },
  {
   "cell_type": "code",
   "execution_count": 77,
   "id": "0e75ed6a-11bb-43dc-999b-6a1fe584bff0",
   "metadata": {},
   "outputs": [],
   "source": [
    "# Melt the DataFrame to a long format for seaborn\n",
    "hsv_merged_plot_df = pd.melt(hsv_merged_df, id_vars='Motif', value_vars=['Functional motifs', 'Motif sequence matches'], \n",
    "                         var_name='Source', value_name='Value')"
   ]
  },
  {
   "cell_type": "code",
   "execution_count": 79,
   "id": "16c56be0-5749-4c1c-890e-fdd0f47a0ee5",
   "metadata": {},
   "outputs": [
    {
     "data": {
      "image/png": "[encoded data removed]",
      "text/plain": [
       "<Figure size 560x800 with 1 Axes>"
      ]
     },
     "metadata": {},
     "output_type": "display_data"
    }
   ],
   "source": [
    "# Set the size of the plot\n",
    "plt.figure(figsize=(5.6, 8))\n",
    "\n",
    "# Create the bar plot with Seaborn\n",
    "sns.barplot(x='Motif', y='Value', hue='Source', data=hsv_merged_plot_df, \n",
    "            palette='Blues_r')\n",
    "\n",
    "# Customize the plot\n",
    "plt.ylabel('Percentage')\n",
    "plt.xlabel('')\n",
    "plt.ylim(0, 100)\n",
    "plt.xticks(rotation=40)\n",
    "plt.title('Motifs Comparison')\n",
    "\n",
    "plt.tight_layout()\n",
    "plt.show()"
   ]
  },
  {
   "cell_type": "code",
   "execution_count": null,
   "id": "9c926d83-266c-4b22-b5cd-a2e4564b9de7",
   "metadata": {},
   "outputs": [],
   "source": []
  }
 ],
 "metadata": {
  "kernelspec": {
   "display_name": "Python 3 (ipykernel)",
   "language": "python",
   "name": "python3"
  },
  "language_info": {
   "codemirror_mode": {
    "name": "ipython",
    "version": 3
   },
   "file_extension": ".py",
   "mimetype": "text/x-python",
   "name": "python",
   "nbconvert_exporter": "python",
   "pygments_lexer": "ipython3",
   "version": "3.12.3"
  }
 },
 "nbformat": 4,
 "nbformat_minor": 5
}
