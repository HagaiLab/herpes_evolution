{
 "cells": [
  {
   "cell_type": "markdown",
   "id": "2ee06857-449c-47ff-8b4c-00b7498f4b5d",
   "metadata": {},
   "source": [
    "### Description:  \n",
    "This is the first step in the motif conservation analysis (results shown in shown in fig7)."
   ]
  },
  {
   "cell_type": "markdown",
   "id": "d6142fe9-3c87-474d-ad41-d27d137f6156",
   "metadata": {},
   "source": [
    "In this step we create 2 tables -> one with dmi motifs and one with non-dmi motifs  \n",
    "  \n",
    "**reminder:**  \n",
    "* \"non-dmi\" is a sequence that matches a regular expression (regex) pattern of a certain motif that was dropped for 1 or 2 reasons:\n",
    "1. The motif does not match a domain of the human PPIs of said viral protein\n",
    "2. The average plddt of said motif is higher than 50 "
   ]
  },
  {
   "cell_type": "code",
   "execution_count": 426,
   "id": "263716c5-d3ed-4590-afb7-ace1a3d2ef91",
   "metadata": {},
   "outputs": [],
   "source": [
    "import pandas as pd\n",
    "import os\n",
    "import ast"
   ]
  },
  {
   "cell_type": "markdown",
   "id": "3813b11b-7b7a-4938-abbf-885cfc09cebf",
   "metadata": {},
   "source": [
    "## motif regex pattern dictionary"
   ]
  },
  {
   "cell_type": "code",
   "execution_count": 428,
   "id": "1732a4b1-0196-4905-b725-4440505eb73e",
   "metadata": {},
   "outputs": [],
   "source": [
    "elm_motifs_and_regex_clean = # path for elm_motifs_data_regex.tsv #"
   ]
  },
  {
   "cell_type": "code",
   "execution_count": 429,
   "id": "4f75cf76-d6a3-4cde-be06-d9887902fdce",
   "metadata": {},
   "outputs": [],
   "source": [
    "elm_df = pd.read_csv(elm_motifs_and_regex_clean , delimiter='\\t', on_bad_lines='skip')"
   ]
  },
  {
   "cell_type": "code",
   "execution_count": 430,
   "id": "c1e307cf-e500-48c6-8860-e4f57886c640",
   "metadata": {},
   "outputs": [],
   "source": [
    "elm_dict=dict(zip(elm_df.ELMIdentifier, elm_df.Regex))"
   ]
  },
  {
   "cell_type": "markdown",
   "id": "2abb1153-df94-4696-82a1-29a6204340b1",
   "metadata": {},
   "source": [
    "## HSV1"
   ]
  },
  {
   "cell_type": "code",
   "execution_count": 624,
   "id": "d86304a2-a2d0-458a-8acd-bab0b771871c",
   "metadata": {},
   "outputs": [],
   "source": [
    "# Table of all the virus's disordered motifs from the \"identify DMIs\" script\n",
    "hsv_disordered_motifs_path = r\"hsv_motifs_plddt_disorder_only.csv\""
   ]
  },
  {
   "cell_type": "code",
   "execution_count": 626,
   "id": "0d324351-9c93-43de-8dda-f0f57af8a07c",
   "metadata": {},
   "outputs": [],
   "source": [
    "hsv_disorder_motifs_df = pd.read_csv(hsv_disordered_motifs_path )"
   ]
  },
  {
   "cell_type": "code",
   "execution_count": 434,
   "id": "edbc9f9f-62e8-4479-88ae-f8d3f770ed2a",
   "metadata": {},
   "outputs": [
    {
     "data": {
      "text/html": [
       "<div>\n",
       "<style scoped>\n",
       "    .dataframe tbody tr th:only-of-type {\n",
       "        vertical-align: middle;\n",
       "    }\n",
       "\n",
       "    .dataframe tbody tr th {\n",
       "        vertical-align: top;\n",
       "    }\n",
       "\n",
       "    .dataframe thead th {\n",
       "        text-align: right;\n",
       "    }\n",
       "</style>\n",
       "<table border=\"1\" class=\"dataframe\">\n",
       "  <thead>\n",
       "    <tr style=\"text-align: right;\">\n",
       "      <th></th>\n",
       "      <th>v_prot</th>\n",
       "      <th>motif_name</th>\n",
       "      <th>start</th>\n",
       "      <th>end</th>\n",
       "      <th>seq</th>\n",
       "      <th>motif_plddt</th>\n",
       "    </tr>\n",
       "  </thead>\n",
       "  <tbody>\n",
       "    <tr>\n",
       "      <th>0</th>\n",
       "      <td>P10238</td>\n",
       "      <td>CLV_C14_Caspase3-7</td>\n",
       "      <td>14</td>\n",
       "      <td>18</td>\n",
       "      <td>DLSDS</td>\n",
       "      <td>44.62200</td>\n",
       "    </tr>\n",
       "    <tr>\n",
       "      <th>1</th>\n",
       "      <td>P10238</td>\n",
       "      <td>CLV_NRD_NRD_1</td>\n",
       "      <td>31</td>\n",
       "      <td>33</td>\n",
       "      <td>RRD</td>\n",
       "      <td>43.14000</td>\n",
       "    </tr>\n",
       "    <tr>\n",
       "      <th>2</th>\n",
       "      <td>P10238</td>\n",
       "      <td>CLV_NRD_NRD_1</td>\n",
       "      <td>111</td>\n",
       "      <td>113</td>\n",
       "      <td>RRP</td>\n",
       "      <td>41.99333</td>\n",
       "    </tr>\n",
       "    <tr>\n",
       "      <th>3</th>\n",
       "      <td>P10238</td>\n",
       "      <td>CLV_NRD_NRD_1</td>\n",
       "      <td>141</td>\n",
       "      <td>143</td>\n",
       "      <td>RRG</td>\n",
       "      <td>45.12000</td>\n",
       "    </tr>\n",
       "    <tr>\n",
       "      <th>4</th>\n",
       "      <td>P10238</td>\n",
       "      <td>CLV_NRD_NRD_1</td>\n",
       "      <td>145</td>\n",
       "      <td>147</td>\n",
       "      <td>RRG</td>\n",
       "      <td>46.68333</td>\n",
       "    </tr>\n",
       "  </tbody>\n",
       "</table>\n",
       "</div>"
      ],
      "text/plain": [
       "   v_prot          motif_name  start  end    seq  motif_plddt\n",
       "0  P10238  CLV_C14_Caspase3-7     14   18  DLSDS     44.62200\n",
       "1  P10238       CLV_NRD_NRD_1     31   33    RRD     43.14000\n",
       "2  P10238       CLV_NRD_NRD_1    111  113    RRP     41.99333\n",
       "3  P10238       CLV_NRD_NRD_1    141  143    RRG     45.12000\n",
       "4  P10238       CLV_NRD_NRD_1    145  147    RRG     46.68333"
      ]
     },
     "execution_count": 434,
     "metadata": {},
     "output_type": "execute_result"
    }
   ],
   "source": [
    "hsv_disorder_motifs_df.head()"
   ]
  },
  {
   "cell_type": "code",
   "execution_count": 435,
   "id": "bb54ff89-8742-43cb-8ae0-01433aa7f15e",
   "metadata": {},
   "outputs": [],
   "source": [
    "hsv_disorder_motifs_df = hsv_disorder_motifs_df[['v_prot' , 'motif_name']].drop_duplicates()"
   ]
  },
  {
   "cell_type": "markdown",
   "id": "a4971a0e-e5ba-4311-8980-fbdab1835a99",
   "metadata": {},
   "source": [
    "### add regex"
   ]
  },
  {
   "cell_type": "code",
   "execution_count": 437,
   "id": "bf6e1cd8-2ec7-4a74-895a-9bde786b50aa",
   "metadata": {},
   "outputs": [],
   "source": [
    "# Using elm's database - creating a column for each motif with its regular expressin\n",
    "hsv_disorder_motifs_df['motif_regex'] = hsv_disorder_motifs_df['motif_name'].map(elm_dict)"
   ]
  },
  {
   "cell_type": "code",
   "execution_count": 438,
   "id": "999fdc82-eddd-459b-b049-704663713cfc",
   "metadata": {},
   "outputs": [
    {
     "data": {
      "text/html": [
       "<div>\n",
       "<style scoped>\n",
       "    .dataframe tbody tr th:only-of-type {\n",
       "        vertical-align: middle;\n",
       "    }\n",
       "\n",
       "    .dataframe tbody tr th {\n",
       "        vertical-align: top;\n",
       "    }\n",
       "\n",
       "    .dataframe thead th {\n",
       "        text-align: right;\n",
       "    }\n",
       "</style>\n",
       "<table border=\"1\" class=\"dataframe\">\n",
       "  <thead>\n",
       "    <tr style=\"text-align: right;\">\n",
       "      <th></th>\n",
       "      <th>v_prot</th>\n",
       "      <th>motif_name</th>\n",
       "      <th>motif_regex</th>\n",
       "    </tr>\n",
       "  </thead>\n",
       "  <tbody>\n",
       "    <tr>\n",
       "      <th>0</th>\n",
       "      <td>P10238</td>\n",
       "      <td>CLV_C14_Caspase3-7</td>\n",
       "      <td>[DSTE][^P][^DEWHFYC]D[GSAN]</td>\n",
       "    </tr>\n",
       "    <tr>\n",
       "      <th>1</th>\n",
       "      <td>P10238</td>\n",
       "      <td>CLV_NRD_NRD_1</td>\n",
       "      <td>(.RK)|(RR[^KR])</td>\n",
       "    </tr>\n",
       "    <tr>\n",
       "      <th>6</th>\n",
       "      <td>P10238</td>\n",
       "      <td>CLV_PCSK_FUR_1</td>\n",
       "      <td>R.[RK]R.</td>\n",
       "    </tr>\n",
       "    <tr>\n",
       "      <th>7</th>\n",
       "      <td>P10238</td>\n",
       "      <td>CLV_PCSK_KEX2_1</td>\n",
       "      <td>[KR]R.</td>\n",
       "    </tr>\n",
       "    <tr>\n",
       "      <th>12</th>\n",
       "      <td>P10238</td>\n",
       "      <td>CLV_PCSK_PC7_1</td>\n",
       "      <td>R...[KR]R.</td>\n",
       "    </tr>\n",
       "  </tbody>\n",
       "</table>\n",
       "</div>"
      ],
      "text/plain": [
       "    v_prot          motif_name                  motif_regex\n",
       "0   P10238  CLV_C14_Caspase3-7  [DSTE][^P][^DEWHFYC]D[GSAN]\n",
       "1   P10238       CLV_NRD_NRD_1              (.RK)|(RR[^KR])\n",
       "6   P10238      CLV_PCSK_FUR_1                     R.[RK]R.\n",
       "7   P10238     CLV_PCSK_KEX2_1                       [KR]R.\n",
       "12  P10238      CLV_PCSK_PC7_1                   R...[KR]R."
      ]
     },
     "execution_count": 438,
     "metadata": {},
     "output_type": "execute_result"
    }
   ],
   "source": [
    "hsv_disorder_motifs_df.head()"
   ]
  },
  {
   "cell_type": "markdown",
   "id": "0be001b5-e4d5-4160-8d3d-6aa831039057",
   "metadata": {},
   "source": [
    "### is said motif in dmi data or not?"
   ]
  },
  {
   "cell_type": "markdown",
   "id": "9a5f28b5-79a0-4900-a94c-bc99fc044cb6",
   "metadata": {},
   "source": [
    "motifs in dmi table are already only those who appear in disordered regions"
   ]
  },
  {
   "cell_type": "code",
   "execution_count": 441,
   "id": "9542357a-8334-4314-8899-a05cd9b49693",
   "metadata": {},
   "outputs": [],
   "source": [
    "hsv_dmi_path = r\"hsv_dmi_table.csv\""
   ]
  },
  {
   "cell_type": "code",
   "execution_count": 442,
   "id": "8cde2462-9ea6-4d43-a7b7-27b8dbde38fd",
   "metadata": {},
   "outputs": [],
   "source": [
    "hsv_dmis_df = pd.read_csv(hsv_dmi_path)"
   ]
  },
  {
   "cell_type": "code",
   "execution_count": 443,
   "id": "8486be8e-d9a0-4ccf-83b3-2f3e2b0b7ddc",
   "metadata": {},
   "outputs": [
    {
     "data": {
      "text/html": [
       "<div>\n",
       "<style scoped>\n",
       "    .dataframe tbody tr th:only-of-type {\n",
       "        vertical-align: middle;\n",
       "    }\n",
       "\n",
       "    .dataframe tbody tr th {\n",
       "        vertical-align: top;\n",
       "    }\n",
       "\n",
       "    .dataframe thead th {\n",
       "        text-align: right;\n",
       "    }\n",
       "</style>\n",
       "<table border=\"1\" class=\"dataframe\">\n",
       "  <thead>\n",
       "    <tr style=\"text-align: right;\">\n",
       "      <th></th>\n",
       "      <th>v_prot</th>\n",
       "      <th>h_DMI</th>\n",
       "      <th>motif</th>\n",
       "      <th>domain</th>\n",
       "    </tr>\n",
       "  </thead>\n",
       "  <tbody>\n",
       "    <tr>\n",
       "      <th>0</th>\n",
       "      <td>P10238</td>\n",
       "      <td>H3BLV9</td>\n",
       "      <td>['MOD_CDK_SPK_2', 'MOD_CK1_1', 'MOD_CK2_1', 'M...</td>\n",
       "      <td>['PF00069']</td>\n",
       "    </tr>\n",
       "    <tr>\n",
       "      <th>1</th>\n",
       "      <td>P06477</td>\n",
       "      <td>Q15772</td>\n",
       "      <td>['MOD_GSK3_1', 'MOD_CK2_1', 'MOD_PKA_2']</td>\n",
       "      <td>['PF00069']</td>\n",
       "    </tr>\n",
       "    <tr>\n",
       "      <th>2</th>\n",
       "      <td>P04296</td>\n",
       "      <td>Q93009</td>\n",
       "      <td>['DOC_USP7_MATH_1']</td>\n",
       "      <td>['PF00917']</td>\n",
       "    </tr>\n",
       "    <tr>\n",
       "      <th>3</th>\n",
       "      <td>P10240</td>\n",
       "      <td>Q9P1W9</td>\n",
       "      <td>['MOD_CK2_1', 'MOD_ProDKin_1', 'MOD_Plk_4', 'M...</td>\n",
       "      <td>['PF00069']</td>\n",
       "    </tr>\n",
       "    <tr>\n",
       "      <th>4</th>\n",
       "      <td>P10240</td>\n",
       "      <td>O00308</td>\n",
       "      <td>['DOC_WW_Pin1_4']</td>\n",
       "      <td>['PF00397']</td>\n",
       "    </tr>\n",
       "  </tbody>\n",
       "</table>\n",
       "</div>"
      ],
      "text/plain": [
       "   v_prot   h_DMI                                              motif  \\\n",
       "0  P10238  H3BLV9  ['MOD_CDK_SPK_2', 'MOD_CK1_1', 'MOD_CK2_1', 'M...   \n",
       "1  P06477  Q15772           ['MOD_GSK3_1', 'MOD_CK2_1', 'MOD_PKA_2']   \n",
       "2  P04296  Q93009                                ['DOC_USP7_MATH_1']   \n",
       "3  P10240  Q9P1W9  ['MOD_CK2_1', 'MOD_ProDKin_1', 'MOD_Plk_4', 'M...   \n",
       "4  P10240  O00308                                  ['DOC_WW_Pin1_4']   \n",
       "\n",
       "        domain  \n",
       "0  ['PF00069']  \n",
       "1  ['PF00069']  \n",
       "2  ['PF00917']  \n",
       "3  ['PF00069']  \n",
       "4  ['PF00397']  "
      ]
     },
     "execution_count": 443,
     "metadata": {},
     "output_type": "execute_result"
    }
   ],
   "source": [
    "hsv_dmis_df.head()"
   ]
  },
  {
   "cell_type": "code",
   "execution_count": 444,
   "id": "2501a762-77d1-471f-be52-7f77212968f1",
   "metadata": {},
   "outputs": [],
   "source": [
    "# Create dictionary of the dmi table from the \"identify DMIs\"\n",
    "\n",
    "hsv_dmis_dict = {}\n",
    "\n",
    "for prot, sub_df in hsv_dmis_df.groupby('v_prot'):\n",
    "    # Convert stringified lists to actual lists\n",
    "    motif_series = sub_df['motif'].apply(ast.literal_eval)\n",
    "\n",
    "    # Flatten the list and remove duplicates\n",
    "    flat_unique_motifs = list(set(motif for sublist in motif_series for motif in sublist))\n",
    "\n",
    "    # Save to dictionary\n",
    "    hsv_dmis_dict[prot] = flat_unique_motifs"
   ]
  },
  {
   "cell_type": "code",
   "execution_count": null,
   "id": "ae21dc5a-b76a-4235-86bd-8bf5b63683e1",
   "metadata": {},
   "outputs": [],
   "source": [
    "# Function recieve a row of motifs table- looks for it in the dmi dictionary\n",
    "# Defines motif as DMI or non DMI\n",
    "\n",
    "def is_dmi(row):\n",
    "    prot = row['v_prot']\n",
    "    motif = row['motif_name']\n",
    "    if prot in hsv_dmis_dict.keys():\n",
    "        if motif in hsv_dmis_dict.get(prot):\n",
    "            return \"dmi\"\n",
    "        else:\n",
    "            return \"non dmi\"\n",
    "    else:\n",
    "        return \"non dmi\""
   ]
  },
  {
   "cell_type": "code",
   "execution_count": 446,
   "id": "bb7a40eb-b935-4c7a-9b32-010020d52f29",
   "metadata": {},
   "outputs": [],
   "source": [
    "# Add column \"is_dmi\" to define motifs as dmi/non dmi\n",
    "hsv_disorder_motifs_df['is_dmi'] = hsv_disorder_motifs_df.apply(is_dmi, axis=1)"
   ]
  },
  {
   "cell_type": "code",
   "execution_count": 447,
   "id": "874ac0bb-d4fd-41de-b89f-5f4d3db7715f",
   "metadata": {},
   "outputs": [
    {
     "data": {
      "text/html": [
       "<div>\n",
       "<style scoped>\n",
       "    .dataframe tbody tr th:only-of-type {\n",
       "        vertical-align: middle;\n",
       "    }\n",
       "\n",
       "    .dataframe tbody tr th {\n",
       "        vertical-align: top;\n",
       "    }\n",
       "\n",
       "    .dataframe thead th {\n",
       "        text-align: right;\n",
       "    }\n",
       "</style>\n",
       "<table border=\"1\" class=\"dataframe\">\n",
       "  <thead>\n",
       "    <tr style=\"text-align: right;\">\n",
       "      <th></th>\n",
       "      <th>v_prot</th>\n",
       "      <th>motif_name</th>\n",
       "      <th>motif_regex</th>\n",
       "      <th>is_dmi</th>\n",
       "    </tr>\n",
       "  </thead>\n",
       "  <tbody>\n",
       "    <tr>\n",
       "      <th>0</th>\n",
       "      <td>P10238</td>\n",
       "      <td>CLV_C14_Caspase3-7</td>\n",
       "      <td>[DSTE][^P][^DEWHFYC]D[GSAN]</td>\n",
       "      <td>non dmi</td>\n",
       "    </tr>\n",
       "    <tr>\n",
       "      <th>1</th>\n",
       "      <td>P10238</td>\n",
       "      <td>CLV_NRD_NRD_1</td>\n",
       "      <td>(.RK)|(RR[^KR])</td>\n",
       "      <td>non dmi</td>\n",
       "    </tr>\n",
       "    <tr>\n",
       "      <th>6</th>\n",
       "      <td>P10238</td>\n",
       "      <td>CLV_PCSK_FUR_1</td>\n",
       "      <td>R.[RK]R.</td>\n",
       "      <td>non dmi</td>\n",
       "    </tr>\n",
       "    <tr>\n",
       "      <th>7</th>\n",
       "      <td>P10238</td>\n",
       "      <td>CLV_PCSK_KEX2_1</td>\n",
       "      <td>[KR]R.</td>\n",
       "      <td>non dmi</td>\n",
       "    </tr>\n",
       "    <tr>\n",
       "      <th>12</th>\n",
       "      <td>P10238</td>\n",
       "      <td>CLV_PCSK_PC7_1</td>\n",
       "      <td>R...[KR]R.</td>\n",
       "      <td>non dmi</td>\n",
       "    </tr>\n",
       "  </tbody>\n",
       "</table>\n",
       "</div>"
      ],
      "text/plain": [
       "    v_prot          motif_name                  motif_regex   is_dmi\n",
       "0   P10238  CLV_C14_Caspase3-7  [DSTE][^P][^DEWHFYC]D[GSAN]  non dmi\n",
       "1   P10238       CLV_NRD_NRD_1              (.RK)|(RR[^KR])  non dmi\n",
       "6   P10238      CLV_PCSK_FUR_1                     R.[RK]R.  non dmi\n",
       "7   P10238     CLV_PCSK_KEX2_1                       [KR]R.  non dmi\n",
       "12  P10238      CLV_PCSK_PC7_1                   R...[KR]R.  non dmi"
      ]
     },
     "execution_count": 447,
     "metadata": {},
     "output_type": "execute_result"
    }
   ],
   "source": [
    "hsv_disorder_motifs_df.head()"
   ]
  },
  {
   "cell_type": "markdown",
   "id": "cd88dcb6-c821-4d24-9924-687e41fa62fa",
   "metadata": {},
   "source": [
    "### split to 2 tables - dmi motifs and non-dmi motifs"
   ]
  },
  {
   "cell_type": "code",
   "execution_count": 449,
   "id": "0aeaa902-48e9-4510-a72b-c931289f2e66",
   "metadata": {},
   "outputs": [],
   "source": [
    "hsv_motifs_df_dmi = hsv_disorder_motifs_df[hsv_disorder_motifs_df['is_dmi'] == 'dmi']\n",
    "hsv_motifs_df_non_dmi = hsv_disorder_motifs_df[hsv_disorder_motifs_df['is_dmi'] == 'non dmi']"
   ]
  },
  {
   "cell_type": "code",
   "execution_count": 452,
   "id": "69e3bb3b-fd85-44ad-8ed8-f103e6863e62",
   "metadata": {},
   "outputs": [],
   "source": [
    "hsv_motifs_df_dmi.to_csv(r'hsv_dmi_motifs.csv', index= False)"
   ]
  },
  {
   "cell_type": "code",
   "execution_count": 453,
   "id": "577711fc-8835-446b-8662-a42244c289d9",
   "metadata": {},
   "outputs": [],
   "source": [
    "hsv_motifs_df_non_dmi.to_csv(r'hsv_non_dmi_motifs.csv', index= False)"
   ]
  },
  {
   "cell_type": "code",
   "execution_count": null,
   "id": "ec55e330-5587-442a-8bb7-5db88a4e1207",
   "metadata": {},
   "outputs": [],
   "source": []
  },
  {
   "cell_type": "code",
   "execution_count": null,
   "id": "9278290f-3f16-46e2-85b7-1490c0e05560",
   "metadata": {},
   "outputs": [],
   "source": []
  }
 ],
 "metadata": {
  "kernelspec": {
   "display_name": "Python 3 (ipykernel)",
   "language": "python",
   "name": "python3"
  },
  "language_info": {
   "codemirror_mode": {
    "name": "ipython",
    "version": 3
   },
   "file_extension": ".py",
   "mimetype": "text/x-python",
   "name": "python",
   "nbconvert_exporter": "python",
   "pygments_lexer": "ipython3",
   "version": "3.12.3"
  }
 },
 "nbformat": 4,
 "nbformat_minor": 5
}
