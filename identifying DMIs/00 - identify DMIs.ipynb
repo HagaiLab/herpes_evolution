{
 "cells": [
  {
   "cell_type": "markdown",
   "id": "a46ed688-2bb3-4301-aba5-30a24d0ac2df",
   "metadata": {},
   "source": [
    "### Description:  \n",
    "This script performs what is described in supp fig \"Schematic example of inference of functional motifs in viral proteins\", i.e., detecting PPIs mediated through domain-motif interactions"
   ]
  },
  {
   "cell_type": "markdown",
   "id": "835f20e4-8e5d-4038-930b-ea4eb23e4c87",
   "metadata": {},
   "source": [
    "in this script \"dmi\" refers to \"domain-motif interactions\"  \n",
    "\n",
    "* \"non-dmi\" is a sequence that matches a regular expression (regex) pattern of a certain motif that was dropped for 1 or 2 reasons:\r\n",
    "1 Tthe motif des oo't match a domain of the human PPIs of said viral protein\r\n",
    "2T the average plddt of said motif is higher tha50n   * \n",
    "\n",
    "\"dm\"is are motfs thaits residues are e disordered and ALSO thits human interactorihas a f mating a domais othe f said viral prote (e.g. a match between an SH3 domain and an SH3-binding motif)i50"
   ]
  },
  {
   "cell_type": "markdown",
   "id": "375512aa-a643-4767-856a-62f450fccc5f",
   "metadata": {},
   "source": [
    "The process consists of the following steps:  \n",
    "1. Defining human proteins and their domains using the ELM database  \n",
    "2. Defining domain-motif pairs using the ELM database  \n",
    "3. Defining human protein-protein interactions (PPIs) per viral protein  \n",
    "4. Finding motifs within the viral proteins using their regular expression (regex)  \n",
    "5. Integrating the 4 components in order to \"couple\" a viral protein with an interacting human protein, in which the viral motif and the human domain are known to interact  "
   ]
  },
  {
   "cell_type": "code",
   "execution_count": 275,
   "id": "63e1686f-a000-4f15-8bd3-33aeaa79aac0",
   "metadata": {},
   "outputs": [],
   "source": [
    "import pandas as pd\n",
    "import os\n",
    "import requests\n",
    "import re\n",
    "import numpy as np\n",
    "import ast"
   ]
  },
  {
   "cell_type": "markdown",
   "id": "97c87401-0b7f-4270-afb4-b714df3e4dcd",
   "metadata": {},
   "source": [
    "## databases"
   ]
  },
  {
   "cell_type": "code",
   "execution_count": 280,
   "id": "01e947bd-306a-40a9-840e-e6512db4b5b5",
   "metadata": {},
   "outputs": [],
   "source": [
    "#human proteins and their domain from ELM DB\n",
    "\n",
    "path_in_human_prot_and_domain_csv = # path for elm_human_protein_domains.csv #"
   ]
  },
  {
   "cell_type": "code",
   "execution_count": 281,
   "id": "4040096a-b6ab-4932-b878-a8faac9b6435",
   "metadata": {},
   "outputs": [],
   "source": [
    "#domain and motifs interations from ELM DB\n",
    "\n",
    "path_in_elm_interaction = #path for elm_motif_domains_interaction.tsv #"
   ]
  },
  {
   "cell_type": "code",
   "execution_count": 282,
   "id": "fcc9605a-cf1f-47d0-baa4-11b25f44d878",
   "metadata": {},
   "outputs": [],
   "source": [
    "#motifs and their regular expression from ELM DB\n",
    "\n",
    "path_elms_clean = # path for elm_motifs_data_regex.tsv #"
   ]
  },
  {
   "cell_type": "code",
   "execution_count": 283,
   "id": "8bf29d36-14c3-4102-8d5a-27935b9e49aa",
   "metadata": {},
   "outputs": [],
   "source": [
    "#function to get protein sequences from uniprot.\n",
    "#input: uniprot ID\n",
    "\n",
    "def get_uniprot_sequence(uniprot_id):\n",
    "    url = f\"https://rest.uniprot.org/uniprotkb/{uniprot_id}.fasta\"\n",
    "    response = requests.get(url)\n",
    "    \n",
    "    if response.status_code == 200:\n",
    "        fasta = response.text\n",
    "        # Extract sequence (ignoring the header line)\n",
    "        sequence = \"\".join(fasta.splitlines()[1:])\n",
    "        return sequence\n",
    "    else:\n",
    "        raise ValueError(f\"Failed to retrieve sequence for {uniprot_id}. HTTP Status: {response.status_code}\")"
   ]
  },
  {
   "cell_type": "markdown",
   "id": "26c42bea-2d68-41ac-8723-81c91cd6b4ed",
   "metadata": {},
   "source": [
    "##  motif regex dictionary"
   ]
  },
  {
   "cell_type": "code",
   "execution_count": 285,
   "id": "26b718c0-4b66-4563-8911-a2373627bb3c",
   "metadata": {},
   "outputs": [],
   "source": [
    "elm_regex_df = pd.read_csv(path_elms_clean , delimiter='\\t', on_bad_lines='skip')\n",
    "elm_regex_dict=dict(zip(elm_regex_df.ELMIdentifier, elm_regex_df.Regex))"
   ]
  },
  {
   "cell_type": "markdown",
   "id": "47daefaa-0eb0-47ea-bb1f-d7e8733dd76b",
   "metadata": {},
   "source": [
    "## human protein - domain dictionary"
   ]
  },
  {
   "cell_type": "code",
   "execution_count": 287,
   "id": "e784eafb-3e35-4ece-a99a-dda55880c2d6",
   "metadata": {},
   "outputs": [],
   "source": [
    "human_domain_df = pd.read_csv(path_in_human_prot_and_domain_csv, skiprows=12, on_bad_lines='skip')"
   ]
  },
  {
   "cell_type": "code",
   "execution_count": 288,
   "id": "54f84dcc-5483-4280-80b0-f29fd2a532ed",
   "metadata": {},
   "outputs": [],
   "source": [
    "human_domain_df.rename(columns={'UniProt ID': 'UniProt_ID', 'Pfam ID': 'Pfam_ID',}, inplace=True)\n",
    "human_domain_df[\"Pfam_ID\"] = human_domain_df[\"Pfam_ID\"].fillna(0)\n",
    "human_domain_dict = dict(zip(human_domain_df.UniProt_ID, human_domain_df.Pfam_ID))\n"
   ]
  },
  {
   "cell_type": "code",
   "execution_count": 289,
   "id": "702b6b2c-77ba-4ebb-911e-b2dd90e8c782",
   "metadata": {},
   "outputs": [],
   "source": [
    "# Parse domains to list of domains\n",
    "for prot, domains in human_domain_dict.items():\n",
    "    if type(domains) == str:\n",
    "        domains = list(domains.split(\";\"))\n",
    "        human_domain_dict[prot] = domains\n",
    "    else:\n",
    "        continue\n"
   ]
  },
  {
   "cell_type": "code",
   "execution_count": 290,
   "id": "91e1e6af-630f-4580-a89b-0e1e32efebf2",
   "metadata": {},
   "outputs": [],
   "source": [
    "human_domain_dict = {x: y for x, y in human_domain_dict.items() if y != 0} ## human_uniprot: pfams list"
   ]
  },
  {
   "cell_type": "markdown",
   "id": "12ef4ea6-abd6-45cf-b26b-50e282351bed",
   "metadata": {},
   "source": [
    "## domain motif interaction dictionary"
   ]
  },
  {
   "cell_type": "code",
   "execution_count": 292,
   "id": "515c69b7-0c80-462b-9e81-37b15a4e908f",
   "metadata": {},
   "outputs": [],
   "source": [
    "elm_int_df = pd.read_csv(path_in_elm_interaction, delimiter='\\t', on_bad_lines='skip')\n",
    "\n",
    "elm_int_dict = dict(zip(elm_int_df.ELM_identifier, elm_int_df.Interaction_Domain_Id))  ## motif_name : pfam_name"
   ]
  },
  {
   "cell_type": "markdown",
   "id": "99afe416-9ae9-4cf0-a24d-6519a115e5fc",
   "metadata": {},
   "source": [
    "## hsv1"
   ]
  },
  {
   "cell_type": "code",
   "execution_count": 294,
   "id": "baf3de6a-8848-4693-a730-572c1ee517eb",
   "metadata": {},
   "outputs": [],
   "source": [
    "hsv_uniprot_path = # path for hsv1_protein_level_table.csv #"
   ]
  },
  {
   "cell_type": "code",
   "execution_count": 295,
   "id": "32077e31-67d7-4b00-90ff-652ae9920988",
   "metadata": {},
   "outputs": [],
   "source": [
    "hsv_uniprot_df = pd.read_csv(hsv_uniprot_path)"
   ]
  },
  {
   "cell_type": "code",
   "execution_count": 297,
   "id": "7ae997b8-89cf-4ba8-93a8-8900c8c90e1f",
   "metadata": {},
   "outputs": [],
   "source": [
    "hsv_prots = hsv_uniprot_df['Uniprot ID'].unique()"
   ]
  },
  {
   "cell_type": "markdown",
   "id": "8e0aa270-3e02-4191-824a-8ec9f24fb65f",
   "metadata": {},
   "source": [
    "### find ppi"
   ]
  },
  {
   "cell_type": "code",
   "execution_count": 299,
   "id": "379eb157-6799-4655-aace-acf4e99f144c",
   "metadata": {},
   "outputs": [],
   "source": [
    "# Table that only has protein which have human ppi\n",
    "hsv_uniprot_df_ppi = hsv_uniprot_df.dropna(subset = ['human PPIs'])"
   ]
  },
  {
   "cell_type": "code",
   "execution_count": 300,
   "id": "1154d471-b15e-4441-ac8a-5a9a556c771a",
   "metadata": {},
   "outputs": [
    {
     "name": "stderr",
     "output_type": "stream",
     "text": [
      "C:\\Users\\TzachiHNB13\\AppData\\Local\\Temp\\ipykernel_38976\\1555766752.py:1: SettingWithCopyWarning: \n",
      "A value is trying to be set on a copy of a slice from a DataFrame.\n",
      "Try using .loc[row_indexer,col_indexer] = value instead\n",
      "\n",
      "See the caveats in the documentation: https://pandas.pydata.org/pandas-docs/stable/user_guide/indexing.html#returning-a-view-versus-a-copy\n",
      "  hsv_uniprot_df_ppi['human PPIs'] = hsv_uniprot_df_ppi['human PPIs'].apply(ast.literal_eval)\n"
     ]
    }
   ],
   "source": [
    "hsv_uniprot_df_ppi['human PPIs'] = hsv_uniprot_df_ppi['human PPIs'].apply(ast.literal_eval) "
   ]
  },
  {
   "cell_type": "code",
   "execution_count": 301,
   "id": "bc3be8f6-6e34-405a-8109-4b3307d5de79",
   "metadata": {},
   "outputs": [],
   "source": [
    "hsv_ppi_dict = dict(zip(hsv_uniprot_df_ppi['Uniprot ID'],hsv_uniprot_df_ppi['human PPIs']))"
   ]
  },
  {
   "cell_type": "code",
   "execution_count": 303,
   "id": "37c4fd7f-dfc5-4419-88a8-14abd6080fdb",
   "metadata": {},
   "outputs": [],
   "source": [
    "hsv_ppi_df = pd.DataFrame({'Uniprot ID': hsv_ppi_dict.keys(), 'human_ppi': hsv_ppi_dict.values()})"
   ]
  },
  {
   "cell_type": "markdown",
   "id": "935b66f0-3aba-4f40-9af6-dc4d280762f1",
   "metadata": {},
   "source": [
    "### find regex motifs"
   ]
  },
  {
   "cell_type": "code",
   "execution_count": 307,
   "id": "4f0bba68-c472-4ac2-9ff7-e665b76bc6d5",
   "metadata": {},
   "outputs": [],
   "source": [
    "# Get sequences from uniprot for proteins with ppi\n",
    "hsv_ppi_df['v_sequence'] = hsv_ppi_df['Uniprot ID'].apply(lambda x: get_uniprot_sequence(x))    "
   ]
  },
  {
   "cell_type": "code",
   "execution_count": 308,
   "id": "5dc7fcc0-ff9a-47de-8340-becfad6febd2",
   "metadata": {},
   "outputs": [],
   "source": [
    "hsv_seq_dict = dict(zip(hsv_ppi_df['Uniprot ID'], hsv_ppi_df['v_sequence']))"
   ]
  },
  {
   "cell_type": "code",
   "execution_count": 309,
   "id": "3a19088f-cd97-46e9-af18-2f9213c9c574",
   "metadata": {},
   "outputs": [],
   "source": [
    "# Look for motifs within the sequences using regular expression (re.finditer)\n",
    "hsv_regex_df_rows = [] \n",
    "\n",
    "for name, seq in hsv_seq_dict.items():   \n",
    "    found_match = False\n",
    "    for identifier, pattern in elm_regex_dict.items():\n",
    "        matches = re.finditer(pattern, str(seq))\n",
    "        for match in matches:\n",
    "            found_match = True\n",
    "            start_Regex = match.start() + 1\n",
    "            end_Regex = match.end()\n",
    "            extract= seq[start_Regex - 1:end_Regex]\n",
    "            row = {'v_prot': name,'motif_name': identifier, 'start': start_Regex ,'end': end_Regex ,'seq':extract}\n",
    "            hsv_regex_df_rows.append(row)                    \n",
    "    if not found_match:\n",
    "        print(f\"No matches found for protein: {name}\")\n",
    "\n",
    "hsv_regex_df = pd.DataFrame(hsv_regex_df_rows)"
   ]
  },
  {
   "cell_type": "markdown",
   "id": "3fcc1a30-b41f-47db-a716-3ec5164847d7",
   "metadata": {},
   "source": [
    "### plddt - create plddt dictionary and define disorder motifs"
   ]
  },
  {
   "cell_type": "code",
   "execution_count": 313,
   "id": "7ce38d10-e575-48ee-9738-4c6d4f5eba7b",
   "metadata": {},
   "outputs": [],
   "source": [
    "hsv_plddt_path = # path for hsv1_residue_level_table.csv #"
   ]
  },
  {
   "cell_type": "code",
   "execution_count": 314,
   "id": "ff88f9b1-6afa-4992-b4bd-d414b99a11bb",
   "metadata": {},
   "outputs": [],
   "source": [
    "hsv_plddt_df = pd.read_csv(hsv_plddt_path)"
   ]
  },
  {
   "cell_type": "code",
   "execution_count": 316,
   "id": "d32e5017-67ae-4572-a30c-1ac6aa6ef800",
   "metadata": {},
   "outputs": [],
   "source": [
    "# Create plldt dictionary: \n",
    "# Protein : plddt list (in order of the residues)\n",
    "hsv_plddt_dict = {}\n",
    "\n",
    "for protein, sub_df in hsv_plddt_df.groupby('viral_uniprot'):\n",
    "    plddt_list = sub_df['pLDDT'].tolist()\n",
    "    hsv_plddt_dict[protein] = plddt_list"
   ]
  },
  {
   "cell_type": "code",
   "execution_count": 318,
   "id": "35862a6d-1e69-4972-bc5d-189069dbe76e",
   "metadata": {},
   "outputs": [],
   "source": [
    "# Define motif's disorder score using average plddt\n",
    "for index, row in hsv_regex_df.iterrows():\n",
    "    uniprot = row['v_prot']\n",
    "    motif_start = row['start']\n",
    "    motif_end = row['end']\n",
    "\n",
    "    res_scores = hsv_plddt_dict.get(uniprot)\n",
    "    if res_scores is not None and not np.isnan(res_scores).any():\n",
    "        motif_scores = res_scores[motif_start -1: motif_end]\n",
    "\n",
    "        motif_plddt = np.round(np.mean(motif_scores), 5)\n",
    "        # print( motif_plddt)\n",
    "\n",
    "        hsv_regex_df.at[index, 'motif_plddt'] = motif_plddt\n",
    "          "
   ]
  },
  {
   "cell_type": "code",
   "execution_count": 464,
   "id": "4269674a-6840-4c7e-bdaa-364f991790e4",
   "metadata": {},
   "outputs": [],
   "source": [
    "hsv_regex_df.to_csv(r\"hsv1_motifs_plddt.csv\", index= False)"
   ]
  },
  {
   "cell_type": "code",
   "execution_count": 320,
   "id": "49513aea-0de6-41cf-8f8b-3131fd244361",
   "metadata": {},
   "outputs": [],
   "source": [
    "# Table with only disorder motifs\n",
    "hsv_regex_df_disorder = hsv_regex_df[hsv_regex_df['motif_plddt'] <= 50]"
   ]
  },
  {
   "cell_type": "code",
   "execution_count": 468,
   "id": "bac4dabc-f0ed-48ef-a8bb-1b11b50d42e1",
   "metadata": {},
   "outputs": [],
   "source": [
    "hsv_regex_df_disorder.to_csv(r\"hsv_motifs_plddt_disorder_only.csv\", index= False)"
   ]
  },
  {
   "cell_type": "code",
   "execution_count": 322,
   "id": "1938795c-33d1-4040-b5cb-011ea68a694e",
   "metadata": {},
   "outputs": [],
   "source": [
    "# Dictionary of the proteins as keys, and a list of their disordered motifs in a list as values\n",
    "hsv_viral_motifs_dict = hsv_regex_df_disorder.groupby('v_prot')['motif_name'].apply(list).to_dict()  #viral uniprot: motifs list"
   ]
  },
  {
   "cell_type": "markdown",
   "id": "bd6d93ce-df73-4a30-9bdd-75bb6b222337",
   "metadata": {},
   "source": [
    "### integrate data"
   ]
  },
  {
   "cell_type": "code",
   "execution_count": 324,
   "id": "f1abf4ba-b62f-42e7-b294-8d67e02a0ea7",
   "metadata": {},
   "outputs": [],
   "source": [
    "# Store rows for nest step - creating a dataframe\n",
    "hsv_dmi_rows = []\n",
    "\n",
    "# Iterate through the proteins within the table\n",
    "for index, row in hsv_uniprot_df.iterrows():\n",
    "    v_prot = row['Uniprot ID']\n",
    "    v_motifs_lst = hsv_viral_motifs_dict.get(v_prot, [])\n",
    "    \n",
    "    h_ppi_lst = hsv_ppi_dict.get(v_prot)\n",
    "    \n",
    "    if h_ppi_lst:\n",
    "        \n",
    "        for h_ppi in h_ppi_lst:\n",
    "            h_domains_lst = human_domain_dict.get(h_ppi) # take only proteins with human PPIs that also have known domains\n",
    "    \n",
    "            if h_domains_lst is None:\n",
    "                continue\n",
    "    \n",
    "            # Find \"connected\" pairs - human ppi that has a domain that matches the viral protein's motif\n",
    "            connected_pairs = [(motif, elm_int_dict.get(motif)) for motif in v_motifs_lst if elm_int_dict.get(motif) in h_domains_lst]\n",
    "            if connected_pairs:\n",
    "                motifs, domains = zip(*connected_pairs)\n",
    "                hsv_dmi_rows.append({'v_prot': v_prot, 'h_DMI': h_ppi, 'motifs': list(motifs), 'domains': list(domains)})\n",
    "    else:\n",
    "        continue\n"
   ]
  },
  {
   "cell_type": "code",
   "execution_count": 325,
   "id": "8b377e1b-d117-4193-a185-ffd14c4bd698",
   "metadata": {},
   "outputs": [],
   "source": [
    "# Create the final DataFrame\n",
    "hsv_dmi_df = pd.DataFrame(hsv_dmi_rows)"
   ]
  },
  {
   "cell_type": "code",
   "execution_count": 328,
   "id": "360fde05-1609-4de8-a243-2d4c52233c62",
   "metadata": {},
   "outputs": [],
   "source": [
    "hsv_dmi_df['motif'] = hsv_dmi_df['motifs'].apply(lambda x: list(set(x)))"
   ]
  },
  {
   "cell_type": "code",
   "execution_count": 329,
   "id": "31fcc5d0-d433-47dd-a235-5a86f01facd9",
   "metadata": {},
   "outputs": [],
   "source": [
    "hsv_dmi_df['domain'] = hsv_dmi_df['domains'].apply(lambda x: list(set(x)))"
   ]
  },
  {
   "cell_type": "code",
   "execution_count": 330,
   "id": "cc77f2c1-8265-4275-bfd0-13237283d97f",
   "metadata": {},
   "outputs": [],
   "source": [
    "hsv_dmi_df.drop(['domains','motifs'], axis=1, inplace= True)"
   ]
  },
  {
   "cell_type": "code",
   "execution_count": 332,
   "id": "8b3613b6-28b3-46c2-9d36-217a955a7576",
   "metadata": {},
   "outputs": [],
   "source": [
    "hsv_dmi_df.to_csv(r\"hsv_dmi_table.csv\" , index= False)"
   ]
  },
  {
   "cell_type": "code",
   "execution_count": null,
   "id": "065399c7-b848-4e99-a18e-1c40e7fb22b0",
   "metadata": {},
   "outputs": [],
   "source": []
  }
 ],
 "metadata": {
  "kernelspec": {
   "display_name": "Python 3 (ipykernel)",
   "language": "python",
   "name": "python3"
  },
  "language_info": {
   "codemirror_mode": {
    "name": "ipython",
    "version": 3
   },
   "file_extension": ".py",
   "mimetype": "text/x-python",
   "name": "python",
   "nbconvert_exporter": "python",
   "pygments_lexer": "ipython3",
   "version": "3.12.3"
  }
 },
 "nbformat": 4,
 "nbformat_minor": 5
}
